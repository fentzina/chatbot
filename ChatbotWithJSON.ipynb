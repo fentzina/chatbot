{
  "nbformat": 4,
  "nbformat_minor": 0,
  "metadata": {
    "colab": {
      "provenance": [],
      "authorship_tag": "ABX9TyOt3bgxhKY+8ayhVH2b91ZO",
      "include_colab_link": true
    },
    "kernelspec": {
      "name": "python3",
      "display_name": "Python 3"
    },
    "language_info": {
      "name": "python"
    }
  },
  "cells": [
    {
      "cell_type": "markdown",
      "metadata": {
        "id": "view-in-github",
        "colab_type": "text"
      },
      "source": [
        "<a href=\"https://colab.research.google.com/github/fentzina/chatbot/blob/main/ChatbotWithJSON.ipynb\" target=\"_parent\"><img src=\"https://colab.research.google.com/assets/colab-badge.svg\" alt=\"Open In Colab\"/></a>"
      ]
    },
    {
      "cell_type": "code",
      "execution_count": null,
      "metadata": {
        "id": "zeI3dm-0CuNx"
      },
      "outputs": [],
      "source": [
        "import json\n",
        "from difflib import get_close_matches"
      ]
    },
    {
      "cell_type": "code",
      "source": [
        "def load_knowledge_base(file_path: str) -> dict:\n",
        "  with open(\"/content/knowledge_base.json\", 'r') as file:\n",
        "    data: dict = json.load(file)\n",
        "  return data\n",
        "\n",
        "\n",
        "def save_knowledge_base(file_path: str, data: dict):\n",
        "  with open(file_path, 'w') as file:\n",
        "    json.dump(data, file, indent=2)\n",
        "\n",
        "def find_best_match(user_question: str, questions: list[str]) -> str|None:\n",
        "  matches: list = get_close_matches(user_question, questions, n=1, cutoff=0.6) # cutoff=0.0 # *similar\n",
        "  return matches[0] if matches else None\n",
        "\n",
        "\n",
        "def get_answer_for_question(question: str, knowledge_base: dict) -> str|None:\n",
        "  for q in knowledge_base[\"questions\"]:\n",
        "    if q[\"question\"] == question:\n",
        "      return q[\"answer\"]\n",
        "\n",
        "\n",
        "def chat_bot():\n",
        "  knowledge_base: dict = load_knowledge_base(\"/content/knowledge_base.json\")\n",
        "\n",
        "  while True:\n",
        "    user_input: str = input(\"You: \")\n",
        "\n",
        "    if user_input.lower() == \"quit\":\n",
        "      break\n",
        "\n",
        "    best_match: str | None = find_best_match(user_input, [q[\"question\"] for q in knowledge_base[\"questions\"] ])\n",
        "\n",
        "    if best_match:\n",
        "      answer: str = get_answer_for_question(best_match, knowledge_base)\n",
        "      print(f'Bot: {answer}')\n",
        "    else:\n",
        "      print(\"Bot: I dont know the answer. Can you teach me?\")\n",
        "      new_answer: str = input('Type the answer or \"skip\" to skip: ')\n",
        "\n",
        "      if new_answer.lower() != \"skip\":\n",
        "        knowledge_base[\"questions\"].append({\"question\": user_input, \"answer\": new_answer})\n",
        "        save_knowledge_base('knowledge_base.json', knowledge_base)\n",
        "        print('Bot: Thank you! I learnt a new response!')\n",
        "\n",
        "\n",
        "if __name__ == '__main__':\n",
        "  chat_bot()"
      ],
      "metadata": {
        "colab": {
          "base_uri": "https://localhost:8080/"
        },
        "id": "OVEWwtkiC7Rg",
        "outputId": "86e32f02-e34b-465a-de3d-7ee1b8bc1aee"
      },
      "execution_count": null,
      "outputs": [
        {
          "output_type": "stream",
          "name": "stdout",
          "text": [
            "You: hi\n",
            "Bot: Hello there\n",
            "You: hello\n",
            "Bot: Hello there!\n",
            "You: ...\n",
            "Bot: Flipseas\n"
          ]
        }
      ]
    },
    {
      "cell_type": "code",
      "source": [],
      "metadata": {
        "id": "FEzrL1TGQDJM"
      },
      "execution_count": null,
      "outputs": []
    }
  ]
}